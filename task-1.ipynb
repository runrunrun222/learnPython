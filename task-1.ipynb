{
 "cells": [
  {
   "cell_type": "code",
   "execution_count": 6,
   "metadata": {},
   "outputs": [
    {
     "name": "stdout",
     "output_type": "stream",
     "text": [
      "40.0\n"
     ]
    }
   ],
   "source": [
    "def func(a, b, c): # c - необязательный аргумент\n",
    "    return a**3 - ((3*b**2) / 6*c) + 15 \n",
    "\n",
    "print(func(3,2,1))"
   ]
  },
  {
   "cell_type": "code",
   "execution_count": 8,
   "metadata": {},
   "outputs": [
    {
     "name": "stdout",
     "output_type": "stream",
     "text": [
      "[21, 42]\n"
     ]
    }
   ],
   "source": [
    "from unittest import result\n",
    "\n",
    "\n",
    "def getDivisibleBySeven(numbers):\n",
    "    result = []\n",
    "    for num in numbers:\n",
    "        if (num % 7) == 0:\n",
    "            result.append(num)\n",
    "\n",
    "    return result\n",
    "\n",
    "nums=[1,6,9,10,15,21,30,42]\n",
    "print(getDivisibleBySeven(nums))\n",
    "\n",
    "\n"
   ]
  },
  {
   "cell_type": "code",
   "execution_count": 11,
   "metadata": {},
   "outputs": [
    {
     "name": "stdout",
     "output_type": "stream",
     "text": [
      "100.0\n"
     ]
    }
   ],
   "source": [
    "mdict = dict(val1=34, val2='some value', val3=65.0, val4=1, val5='S')\n",
    "#keys = list(mdict.keys())\n",
    "\n",
    "\n",
    "\n",
    "def integerFloatValues(dict):\n",
    "    sum_of_values = 0\n",
    "    values = list(mdict.values())\n",
    "    for i in values:\n",
    "        if isinstance(i, int) | isinstance(i, float):\n",
    "            sum_of_values += i\n",
    "    return sum_of_values    \n",
    "\n",
    "print(integerFloatValues(dict))"
   ]
  },
  {
   "cell_type": "code",
   "execution_count": 125,
   "metadata": {},
   "outputs": [
    {
     "name": "stdout",
     "output_type": "stream",
     "text": [
      "['odd', 'odd', 'even', '0', 'odd', 'even', 'even', '0', 'odd']\n"
     ]
    }
   ],
   "source": [
    "numbers = [1, 3, 4, 0, 23, 82, 90, 0, 5]\n",
    "resultNumbers = []\n",
    "def newNub(numbers):\n",
    "    for i in range(len(numbers)):\n",
    "            if numbers[i] == 0:\n",
    "                numbers[i] = \"0\"\n",
    "                resultNumbers.append(numbers[i])\n",
    "                \n",
    "            elif numbers[i] % 2 != 1:\n",
    "                numbers[i] = \"even\"\n",
    "                resultNumbers.append(numbers[i])\n",
    "                \n",
    "            elif numbers[i] % 2 == 1:\n",
    "                numbers[i] = \"odd\"\n",
    "                resultNumbers.append(numbers[i])\n",
    "                \n",
    "            \n",
    "    return resultNumbers\n",
    "print(newNub(numbers))\n"
   ]
  },
  {
   "cell_type": "code",
   "execution_count": 126,
   "metadata": {},
   "outputs": [
    {
     "name": "stdout",
     "output_type": "stream",
     "text": [
      "{'name': 'Стас', 'age': 82, 'hobbies': ['Python', 'теннис']}\n"
     ]
    }
   ],
   "source": [
    "first_name = 'Стас'\n",
    "last_name = 'Иванов'\n",
    "favorite_hobby = 'Python'\n",
    "sports_hobby = 'теннис'\n",
    "age = 82\n",
    "\n",
    "my_dict = {\n",
    "    'name': '',\n",
    "    'age': 0,\n",
    "    'hobbies': []\n",
    "}\n",
    "\n",
    "my_dict[\"name\"] = first_name\n",
    "my_dict[\"age\"] = age\n",
    "my_dict[\"hobbies\"] = [favorite_hobby, sports_hobby]\n",
    "\n",
    "print(my_dict)\n"
   ]
  }
 ],
 "metadata": {
  "kernelspec": {
   "display_name": "Python 3.9.0 64-bit",
   "language": "python",
   "name": "python3"
  },
  "language_info": {
   "codemirror_mode": {
    "name": "ipython",
    "version": 3
   },
   "file_extension": ".py",
   "mimetype": "text/x-python",
   "name": "python",
   "nbconvert_exporter": "python",
   "pygments_lexer": "ipython3",
   "version": "3.9.0"
  },
  "orig_nbformat": 4,
  "vscode": {
   "interpreter": {
    "hash": "cf92aa13fedf815d5c8dd192b8d835913fde3e8bc926b2a0ad6cc74ef2ba3ca2"
   }
  }
 },
 "nbformat": 4,
 "nbformat_minor": 2
}
